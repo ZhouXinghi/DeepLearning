{
 "cells": [
  {
   "cell_type": "code",
   "execution_count": null,
   "metadata": {},
   "outputs": [],
   "source": [
    "import torch\n",
    "import torchvision \n",
    "from torch import nn\n",
    "from torch.nn import functional as F\n",
    "from d2l import torch as d2l\n"
   ]
  },
  {
   "cell_type": "code",
   "execution_count": null,
   "metadata": {},
   "outputs": [],
   "source": [
    "pretrained_net = torchvision.models.resnet18(weights='DEFAULT')\n",
    "#  print(list(pretrained_net.children()))\n",
    "#  print(list(pretrained_net.children())[-3:])\n",
    "#  print(list(pretrained_net.children())[:-1])\n",
    "\n",
    "# channel: 3 -> 512\n",
    "# mapsize /= 32\n",
    "net = nn.Sequential(*list(pretrained_net.children())[:-2])\n",
    "\n",
    "#  X = torch.rand(size=(1, 3, 320, 480))\n",
    "#  print(net(X).shape)\n",
    "\n",
    "num_classes = 21\n",
    "net.add_module('1x1_conv', nn.Conv2d(512, num_classes, kernel_size=1))\n",
    "net.add_module('transposed_conv', nn.ConvTranspose2d(num_classes, num_classes, kernel_size=64, stride=32, padding=16))\n",
    "\n",
    "#  print(net(X).shape)\n",
    "\n",
    "############################################################### initialize transposed_conv\n",
    "def bilinear_kernel(in_channels, out_channels, kernel_size):\n",
    "    factor = (kernel_size + 1) // 2\n",
    "    if kernel_size % 2 == 1:\n",
    "        center = factor - 1\n",
    "    else:\n",
    "        center = factor - 0.5\n",
    "    og = (torch.arange(kernel_size).reshape(-1, 1),\n",
    "          torch.arange(kernel_size).reshape(1, -1))\n",
    "    filt = (1 - torch.abs(og[0] - center) / factor) * \\\n",
    "           (1 - torch.abs(og[1] - center) / factor)\n",
    "    weight = torch.zeros((in_channels, out_channels,\n",
    "                          kernel_size, kernel_size))\n",
    "    weight[range(in_channels), range(out_channels), :, :] = filt\n",
    "    return weight\n",
    "\n",
    "W = bilinear_kernel(num_classes, num_classes, 64)\n",
    "net.transposed_conv.weight.data.copy_(W)\n"
   ]
  },
  {
   "cell_type": "code",
   "execution_count": null,
   "metadata": {},
   "outputs": [],
   "source": [
    "####################################### read data\n",
    "batch_size=32\n",
    "crop_size=(320, 480)\n",
    "train_iter, valid_iter = d2l.load_data_voc(batch_size, crop_size)\n"
   ]
  },
  {
   "cell_type": "code",
   "execution_count": null,
   "metadata": {},
   "outputs": [],
   "source": [
    "####################################### train\n",
    "def loss(input, target):\n",
    "    return F.cross_entropy(input, target, reduction='none').mean(dim=1).mean(dim=1)\n",
    "#  loss = nn.CrossEntropyLoss(reduction='none')\n",
    "X, label = next(iter(train_iter))\n",
    "\n",
    "num_epochs, lr, wd, devices = 5, 0.001, 1e-3, d2l.try_all_gpus()\n",
    "trainer = torch.optim.SGD(net.parameters(), lr=lr, weight_decay=wd)\n",
    "d2l.train_ch13(net, train_iter, valid_iter, loss, trainer, num_epochs, devices)\n"
   ]
  }
 ],
 "metadata": {
  "language_info": {
   "name": "python"
  },
  "orig_nbformat": 4
 },
 "nbformat": 4,
 "nbformat_minor": 2
}
