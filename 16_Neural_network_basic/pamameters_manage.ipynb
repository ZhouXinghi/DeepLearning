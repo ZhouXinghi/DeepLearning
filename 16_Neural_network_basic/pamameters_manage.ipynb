{
 "cells": [
  {
   "cell_type": "code",
   "execution_count": 2,
   "metadata": {},
   "outputs": [
    {
     "data": {
      "text/plain": [
       "tensor([[-0.0667],\n",
       "        [ 0.0346]], grad_fn=<AddmmBackward0>)"
      ]
     },
     "execution_count": 2,
     "metadata": {},
     "output_type": "execute_result"
    }
   ],
   "source": [
    "import torch\n",
    "from torch import nn\n",
    "\n",
    "net = nn.Sequential(nn.Linear(4, 8), nn.ReLU(), nn.Linear(8, 1))\n",
    "X = torch.rand(size=(2, 4))\n",
    "net(X)"
   ]
  },
  {
   "cell_type": "code",
   "execution_count": 5,
   "metadata": {},
   "outputs": [
    {
     "name": "stdout",
     "output_type": "stream",
     "text": [
      "OrderedDict([('weight', tensor([[ 3.5792e-01,  4.3745e-01, -1.8116e-01,  4.9952e-01],\n",
      "        [ 3.9634e-01,  6.0746e-02, -8.3045e-02,  6.7411e-02],\n",
      "        [ 1.3808e-01, -2.1440e-01,  1.7564e-01,  4.6653e-01],\n",
      "        [-1.6345e-01, -4.9643e-01, -4.1949e-02, -2.6233e-01],\n",
      "        [ 3.1801e-01,  4.6023e-01, -4.4265e-01,  2.5398e-01],\n",
      "        [ 4.7668e-02, -4.2801e-01,  2.0656e-02,  3.7724e-01],\n",
      "        [ 1.3583e-01, -1.3582e-01,  3.2929e-01, -3.4457e-01],\n",
      "        [ 2.8479e-04, -3.3709e-01,  1.7144e-01, -3.0330e-02]])), ('bias', tensor([-0.0397, -0.2870,  0.3128,  0.2042,  0.1565, -0.0314,  0.3341, -0.1710]))])\n",
      "OrderedDict([('weight', tensor([[-0.2673, -0.3136,  0.2206, -0.2633, -0.3076,  0.1721,  0.2945,  0.2225]])), ('bias', tensor([-0.1347]))])\n",
      "OrderedDict([('0.weight', tensor([[ 3.5792e-01,  4.3745e-01, -1.8116e-01,  4.9952e-01],\n",
      "        [ 3.9634e-01,  6.0746e-02, -8.3045e-02,  6.7411e-02],\n",
      "        [ 1.3808e-01, -2.1440e-01,  1.7564e-01,  4.6653e-01],\n",
      "        [-1.6345e-01, -4.9643e-01, -4.1949e-02, -2.6233e-01],\n",
      "        [ 3.1801e-01,  4.6023e-01, -4.4265e-01,  2.5398e-01],\n",
      "        [ 4.7668e-02, -4.2801e-01,  2.0656e-02,  3.7724e-01],\n",
      "        [ 1.3583e-01, -1.3582e-01,  3.2929e-01, -3.4457e-01],\n",
      "        [ 2.8479e-04, -3.3709e-01,  1.7144e-01, -3.0330e-02]])), ('0.bias', tensor([-0.0397, -0.2870,  0.3128,  0.2042,  0.1565, -0.0314,  0.3341, -0.1710])), ('2.weight', tensor([[-0.2673, -0.3136,  0.2206, -0.2633, -0.3076,  0.1721,  0.2945,  0.2225]])), ('2.bias', tensor([-0.1347]))])\n"
     ]
    }
   ],
   "source": [
    "print(net[0].state_dict())\n",
    "print(net[2].state_dict())\n",
    "print(net.state_dict())"
   ]
  },
  {
   "cell_type": "code",
   "execution_count": 9,
   "metadata": {},
   "outputs": [
    {
     "name": "stdout",
     "output_type": "stream",
     "text": [
      "<class 'torch.nn.parameter.Parameter'>\n",
      "Parameter containing:\n",
      "tensor([-0.1347], requires_grad=True)\n",
      "tensor([-0.1347])\n",
      "None\n"
     ]
    }
   ],
   "source": [
    "print(type(net[2].bias))\n",
    "print(net[2].bias)\n",
    "print(net[2].bias.data)\n",
    "print(net[2].bias.grad)"
   ]
  },
  {
   "cell_type": "code",
   "execution_count": 21,
   "metadata": {},
   "outputs": [
    {
     "name": "stdout",
     "output_type": "stream",
     "text": [
      "0.weight Parameter containing:\n",
      "tensor([[ 3.5792e-01,  4.3745e-01, -1.8116e-01,  4.9952e-01],\n",
      "        [ 3.9634e-01,  6.0746e-02, -8.3045e-02,  6.7411e-02],\n",
      "        [ 1.3808e-01, -2.1440e-01,  1.7564e-01,  4.6653e-01],\n",
      "        [-1.6345e-01, -4.9643e-01, -4.1949e-02, -2.6233e-01],\n",
      "        [ 3.1801e-01,  4.6023e-01, -4.4265e-01,  2.5398e-01],\n",
      "        [ 4.7668e-02, -4.2801e-01,  2.0656e-02,  3.7724e-01],\n",
      "        [ 1.3583e-01, -1.3582e-01,  3.2929e-01, -3.4457e-01],\n",
      "        [ 2.8479e-04, -3.3709e-01,  1.7144e-01, -3.0330e-02]],\n",
      "       requires_grad=True)\n",
      "<class 'torch.nn.parameter.Parameter'>\n",
      "0.bias Parameter containing:\n",
      "tensor([-0.0397, -0.2870,  0.3128,  0.2042,  0.1565, -0.0314,  0.3341, -0.1710],\n",
      "       requires_grad=True)\n",
      "<class 'torch.nn.parameter.Parameter'>\n",
      "2.weight Parameter containing:\n",
      "tensor([[-0.2673, -0.3136,  0.2206, -0.2633, -0.3076,  0.1721,  0.2945,  0.2225]],\n",
      "       requires_grad=True)\n",
      "<class 'torch.nn.parameter.Parameter'>\n",
      "2.bias Parameter containing:\n",
      "tensor([-0.1347], requires_grad=True)\n",
      "<class 'torch.nn.parameter.Parameter'>\n",
      "0.weight tensor([[ 3.5792e-01,  4.3745e-01, -1.8116e-01,  4.9952e-01],\n",
      "        [ 3.9634e-01,  6.0746e-02, -8.3045e-02,  6.7411e-02],\n",
      "        [ 1.3808e-01, -2.1440e-01,  1.7564e-01,  4.6653e-01],\n",
      "        [-1.6345e-01, -4.9643e-01, -4.1949e-02, -2.6233e-01],\n",
      "        [ 3.1801e-01,  4.6023e-01, -4.4265e-01,  2.5398e-01],\n",
      "        [ 4.7668e-02, -4.2801e-01,  2.0656e-02,  3.7724e-01],\n",
      "        [ 1.3583e-01, -1.3582e-01,  3.2929e-01, -3.4457e-01],\n",
      "        [ 2.8479e-04, -3.3709e-01,  1.7144e-01, -3.0330e-02]])\n",
      "<class 'torch.Tensor'>\n",
      "0.bias tensor([-0.0397, -0.2870,  0.3128,  0.2042,  0.1565, -0.0314,  0.3341, -0.1710])\n",
      "<class 'torch.Tensor'>\n",
      "2.weight tensor([[-0.2673, -0.3136,  0.2206, -0.2633, -0.3076,  0.1721,  0.2945,  0.2225]])\n",
      "<class 'torch.Tensor'>\n",
      "2.bias tensor([-0.1347])\n",
      "<class 'torch.Tensor'>\n"
     ]
    },
    {
     "data": {
      "text/plain": [
       "tensor([-0.1347])"
      ]
     },
     "execution_count": 21,
     "metadata": {},
     "output_type": "execute_result"
    }
   ],
   "source": [
    "for name, param in net.named_parameters():\n",
    "    print(name, param)\n",
    "    print(type(param))\n",
    "for name, param in net.state_dict().items():\n",
    "    print(name, param)\n",
    "    print(type(param))\n",
    "\n",
    "net.state_dict()['2.bias'].data"
   ]
  },
  {
   "cell_type": "code",
   "execution_count": null,
   "metadata": {},
   "outputs": [],
   "source": []
  }
 ],
 "metadata": {
  "kernelspec": {
   "display_name": "cv3",
   "language": "python",
   "name": "python3"
  },
  "language_info": {
   "codemirror_mode": {
    "name": "ipython",
    "version": 3
   },
   "file_extension": ".py",
   "mimetype": "text/x-python",
   "name": "python",
   "nbconvert_exporter": "python",
   "pygments_lexer": "ipython3",
   "version": "3.9.13"
  },
  "orig_nbformat": 4,
  "vscode": {
   "interpreter": {
    "hash": "3fa4b62426a0cdf1c02e81afc6355f8e9b3dd70393a728624f053bfcdc4160eb"
   }
  }
 },
 "nbformat": 4,
 "nbformat_minor": 2
}
